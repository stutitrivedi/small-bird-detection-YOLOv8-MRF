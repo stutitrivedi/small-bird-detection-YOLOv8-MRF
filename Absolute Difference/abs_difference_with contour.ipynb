{
  "nbformat": 4,
  "nbformat_minor": 0,
  "metadata": {
    "colab": {
      "provenance": []
    },
    "kernelspec": {
      "name": "python3",
      "display_name": "Python 3"
    },
    "language_info": {
      "name": "python"
    }
  },
  "cells": [
    {
      "cell_type": "code",
      "execution_count": null,
      "metadata": {
        "colab": {
          "base_uri": "https://localhost:8080/"
        },
        "id": "xJEnB0UPaT94",
        "outputId": "45fab098-6fb0-4f46-cb22-6ac360b0f0e3"
      },
      "outputs": [
        {
          "output_type": "stream",
          "name": "stdout",
          "text": [
            "Drive already mounted at /content/drive; to attempt to forcibly remount, call drive.mount(\"/content/drive\", force_remount=True).\n",
            "['small bird', 'Processed Small Bird', 'Filtered_output_folder (1)', 'Filtered_output_folder', 'output_folder', 'Untitled0.ipynb', 'compare_counter&mask.ipynb', 'LayoutCRF', 'Untitled1.ipynb']\n",
            "['small bird', 'Processed Small Bird', 'Filtered_output_folder (1)', 'Filtered_output_folder', 'output_folder', 'Untitled0.ipynb', 'compare_counter&mask.ipynb', 'LayoutCRF', 'Untitled1.ipynb']\n",
            "Current directory: /content/drive/My Drive\n"
          ]
        }
      ],
      "source": [
        "from google.colab import drive\n",
        "drive.mount('/content/drive')\n",
        "import os\n",
        "directory_list = os.listdir('/content/drive/My Drive')\n",
        "print(directory_list)\n",
        "all_items = os.listdir('/content/drive/My Drive')\n",
        "print(all_items)\n",
        "\n",
        "print(\"Current directory:\", os.getcwd())\n",
        "new_directory = '/content/drive/My Drive'\n",
        "os.chdir(new_directory)\n"
      ]
    },
    {
      "cell_type": "code",
      "source": [
        "# threshold = 30\n",
        "import cv2\n",
        "import os\n",
        "import numpy as np\n",
        "\n",
        "# Define the input and output directory paths\n",
        "input_dir_path = '/content/drive/My Drive/LayoutCRF/SmallBird_Images/images'\n",
        "processed_dir_path = '/content/drive/My Drive/Filtered_output_folder'\n",
        "final_output_dir_path = '/content/drive/My Drive/output_folder/Three Consecutive output Contour'\n",
        "\n",
        "# Create the necessary directories if they don't exist\n",
        "for path in [processed_dir_path, final_output_dir_path]:\n",
        "    os.makedirs(path, exist_ok=True)\n",
        "\n",
        "# Process the image: Apply Gaussian Blur and Histogram Equalization\n",
        "def process_image(image_path, output_path):\n",
        "    image = cv2.imread(image_path, cv2.IMREAD_GRAYSCALE)\n",
        "    if image is None:\n",
        "        raise ValueError(f\"Image at {image_path} didn't load properly.\")\n",
        "    blurred = cv2.GaussianBlur(image, (5, 5), 0)\n",
        "    enhanced = cv2.equalizeHist(blurred)\n",
        "    cv2.imwrite(output_path, enhanced)\n",
        "\n",
        "# Find common changes between three consecutive images\n",
        "def find_common_changes(image_paths):\n",
        "    images = [cv2.imread(path, cv2.IMREAD_GRAYSCALE) for path in image_paths]\n",
        "    if any(img is None for img in images):\n",
        "        raise ValueError(\"One of the images didn't load properly. Check the file paths.\")\n",
        "    deltas = [cv2.absdiff(images[i+1], images[i]) for i in range(2)]\n",
        "    threshs = [cv2.threshold(delta, 30, 255, cv2.THRESH_BINARY)[1] for delta in deltas]\n",
        "    common_changes = cv2.bitwise_and(threshs[0], threshs[1])\n",
        "    return common_changes\n",
        "\n",
        "# Apply morphological operations to reduce noise\n",
        "def clean_changes(image):\n",
        "    kernel = np.ones((3, 3), np.uint8)\n",
        "    opened = cv2.morphologyEx(image, cv2.MORPH_OPEN, kernel)\n",
        "    closed = cv2.morphologyEx(opened, cv2.MORPH_CLOSE, kernel)\n",
        "    return closed\n",
        "\n",
        "# Apply contour detection and draw on the cleaned changes\n",
        "def detect_and_draw_contours(cleaned_changes, processed_image_path, output_path):\n",
        "    image = cv2.imread(processed_image_path)\n",
        "    if image is None:\n",
        "        raise ValueError(f\"Failed to load the processed image from {processed_image_path}\")\n",
        "    # Convert grayscale to BGR for color drawing\n",
        "    if len(image.shape) == 2:\n",
        "        image = cv2.cvtColor(image, cv2.COLOR_GRAY2BGR)\n",
        "    contours, _ = cv2.findContours(cleaned_changes, cv2.RETR_EXTERNAL, cv2.CHAIN_APPROX_SIMPLE)\n",
        "    for contour in contours:\n",
        "        if cv2.contourArea(contour) > 150:  # Adjust this value as needed\n",
        "            cv2.drawContours(image, [contour], -1, (0, 255, 0), 2)  # Drawing in green\n",
        "    cv2.imwrite(output_path, image)\n",
        "\n",
        "# Get all the image file names from the input directory\n",
        "input_image_files = [file for file in os.listdir(input_dir_path) if file.lower().endswith(('.png', '.jpg', '.jpeg'))]\n",
        "\n",
        "# Process each image and save it to the processed directory\n",
        "for file_name in input_image_files:\n",
        "    input_image_path = os.path.join(input_dir_path, file_name)\n",
        "    processed_image_path = os.path.join(processed_dir_path, 'processed_' + file_name)\n",
        "    process_image(input_image_path, processed_image_path)\n",
        "\n",
        "# Process in overlapping windows of three images\n",
        "processed_image_files = sorted([f for f in os.listdir(processed_dir_path) if f.endswith(('png', 'JPG', 'jpeg'))])\n",
        "if len(processed_image_files) < 3:\n",
        "    raise ValueError(\"Not enough processed images to find common changes. Need at least three.\")\n",
        "\n",
        "for i in range(0, len(processed_image_files) - 2, 2):  # Step by 2 for overlapping groups\n",
        "    image_paths = [os.path.join(processed_dir_path, processed_image_files[j]) for j in range(i, i + 3)]\n",
        "    common_changes = find_common_changes(image_paths)\n",
        "    cleaned_changes = clean_changes(common_changes)\n",
        "    output_path = os.path.join(final_output_dir_path, f'common_changes_{i}.jpg')\n",
        "    detect_and_draw_contours(cleaned_changes, image_paths[0], output_path)\n",
        "    print(f\"Processed images {i}, {i+1}, and {i+2}\")\n"
      ],
      "metadata": {
        "colab": {
          "base_uri": "https://localhost:8080/"
        },
        "id": "19qpQ7W4abSY",
        "outputId": "7f9d5dc0-7493-4a70-ad05-392dcbbeddb2"
      },
      "execution_count": null,
      "outputs": [
        {
          "output_type": "stream",
          "name": "stdout",
          "text": [
            "Processed images 0, 1, and 2\n",
            "Processed images 2, 3, and 4\n",
            "Processed images 4, 5, and 6\n",
            "Processed images 6, 7, and 8\n",
            "Processed images 8, 9, and 10\n",
            "Processed images 10, 11, and 12\n",
            "Processed images 12, 13, and 14\n",
            "Processed images 14, 15, and 16\n",
            "Processed images 16, 17, and 18\n",
            "Processed images 18, 19, and 20\n",
            "Processed images 20, 21, and 22\n",
            "Processed images 22, 23, and 24\n",
            "Processed images 24, 25, and 26\n",
            "Processed images 26, 27, and 28\n",
            "Processed images 28, 29, and 30\n",
            "Processed images 30, 31, and 32\n",
            "Processed images 32, 33, and 34\n",
            "Processed images 34, 35, and 36\n",
            "Processed images 36, 37, and 38\n",
            "Processed images 38, 39, and 40\n",
            "Processed images 40, 41, and 42\n",
            "Processed images 42, 43, and 44\n",
            "Processed images 44, 45, and 46\n",
            "Processed images 46, 47, and 48\n",
            "Processed images 48, 49, and 50\n",
            "Processed images 50, 51, and 52\n",
            "Processed images 52, 53, and 54\n",
            "Processed images 54, 55, and 56\n",
            "Processed images 56, 57, and 58\n",
            "Processed images 58, 59, and 60\n",
            "Processed images 60, 61, and 62\n",
            "Processed images 62, 63, and 64\n",
            "Processed images 64, 65, and 66\n",
            "Processed images 66, 67, and 68\n",
            "Processed images 68, 69, and 70\n",
            "Processed images 70, 71, and 72\n",
            "Processed images 72, 73, and 74\n",
            "Processed images 74, 75, and 76\n"
          ]
        }
      ]
    }
  ]
}